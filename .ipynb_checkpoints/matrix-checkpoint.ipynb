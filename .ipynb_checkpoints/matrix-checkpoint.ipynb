{
 "cells": [
  {
   "cell_type": "markdown",
   "id": "f515de3f-9a67-4637-8265-491291c519fe",
   "metadata": {},
   "source": [
    "Rsna 패키지를 활용해 친구관계 행렬의 밀도 계산  \n",
    "기본적으로 네트워크 밀도는 다음과 같이 산출됨\n",
    "### $ \\frac{친구지명수}{최대로 가능한 지명수} $  \n",
    "\n",
    "여기서 추가로 또래지명 네트워크는 방향성을 가지고 있는 directed edge이며  \n",
    "그렇기 때문에 directed network라고 할 수 있음  \n",
    "\n",
    "이런 경우 최대 엣지 즉, 최대로 가능한 지명수 계산 방법이 달라지게 됨"
   ]
  },
  {
   "cell_type": "markdown",
   "id": "585c17f2-a7da-403d-bf04-4758dc9ccc9d",
   "metadata": {},
   "source": [
    "방향 네트워크의 최대 엣지 수 : N * (N-1)\n",
    "***\n",
    "우선 또래지명 데이터를 불러와서 행렬화"
   ]
  },
  {
   "cell_type": "code",
   "execution_count": 21,
   "id": "40fa7614-7f67-4088-baa1-5aeba6fd601c",
   "metadata": {},
   "outputs": [
    {
     "data": {
      "text/html": [
       "<div>\n",
       "<style scoped>\n",
       "    .dataframe tbody tr th:only-of-type {\n",
       "        vertical-align: middle;\n",
       "    }\n",
       "\n",
       "    .dataframe tbody tr th {\n",
       "        vertical-align: top;\n",
       "    }\n",
       "\n",
       "    .dataframe thead th {\n",
       "        text-align: right;\n",
       "    }\n",
       "</style>\n",
       "<table border=\"1\" class=\"dataframe\">\n",
       "  <thead>\n",
       "    <tr style=\"text-align: right;\">\n",
       "      <th></th>\n",
       "      <th>point_item_no</th>\n",
       "      <th>student_designation</th>\n",
       "      <th>student_nomination</th>\n",
       "    </tr>\n",
       "  </thead>\n",
       "  <tbody>\n",
       "    <tr>\n",
       "      <th>0</th>\n",
       "      <td>PN1</td>\n",
       "      <td>student1</td>\n",
       "      <td>student20</td>\n",
       "    </tr>\n",
       "    <tr>\n",
       "      <th>1</th>\n",
       "      <td>PN1</td>\n",
       "      <td>student2</td>\n",
       "      <td>student8</td>\n",
       "    </tr>\n",
       "    <tr>\n",
       "      <th>2</th>\n",
       "      <td>PN1</td>\n",
       "      <td>student3</td>\n",
       "      <td>student5</td>\n",
       "    </tr>\n",
       "    <tr>\n",
       "      <th>3</th>\n",
       "      <td>PN1</td>\n",
       "      <td>student4</td>\n",
       "      <td>student16</td>\n",
       "    </tr>\n",
       "    <tr>\n",
       "      <th>4</th>\n",
       "      <td>PN1</td>\n",
       "      <td>student5</td>\n",
       "      <td>student11</td>\n",
       "    </tr>\n",
       "    <tr>\n",
       "      <th>...</th>\n",
       "      <td>...</td>\n",
       "      <td>...</td>\n",
       "      <td>...</td>\n",
       "    </tr>\n",
       "    <tr>\n",
       "      <th>513</th>\n",
       "      <td>PN19</td>\n",
       "      <td>student17</td>\n",
       "      <td>student11</td>\n",
       "    </tr>\n",
       "    <tr>\n",
       "      <th>514</th>\n",
       "      <td>PN19</td>\n",
       "      <td>student18</td>\n",
       "      <td>student17</td>\n",
       "    </tr>\n",
       "    <tr>\n",
       "      <th>515</th>\n",
       "      <td>PN19</td>\n",
       "      <td>student18</td>\n",
       "      <td>student14</td>\n",
       "    </tr>\n",
       "    <tr>\n",
       "      <th>516</th>\n",
       "      <td>PN19</td>\n",
       "      <td>student19</td>\n",
       "      <td>student4</td>\n",
       "    </tr>\n",
       "    <tr>\n",
       "      <th>517</th>\n",
       "      <td>PN19</td>\n",
       "      <td>student20</td>\n",
       "      <td>student5</td>\n",
       "    </tr>\n",
       "  </tbody>\n",
       "</table>\n",
       "<p>518 rows × 3 columns</p>\n",
       "</div>"
      ],
      "text/plain": [
       "    point_item_no student_designation student_nomination\n",
       "0             PN1            student1          student20\n",
       "1             PN1            student2           student8\n",
       "2             PN1            student3           student5\n",
       "3             PN1            student4          student16\n",
       "4             PN1            student5          student11\n",
       "..            ...                 ...                ...\n",
       "513          PN19           student17          student11\n",
       "514          PN19           student18          student17\n",
       "515          PN19           student18          student14\n",
       "516          PN19           student19           student4\n",
       "517          PN19           student20           student5\n",
       "\n",
       "[518 rows x 3 columns]"
      ]
     },
     "execution_count": 21,
     "metadata": {},
     "output_type": "execute_result"
    }
   ],
   "source": [
    "# 또래 지명 응답값 불러오기\n",
    "import pandas as pd\n",
    "import requests\n",
    "from io import BytesIO\n",
    "url = \"https://github.com/Byumin/peer/raw/refs/heads/item/student_point_df.csv\"\n",
    "point_df = pd.read_csv(url)\n",
    "point_df"
   ]
  },
  {
   "cell_type": "code",
   "execution_count": 23,
   "id": "869b55e9-bf80-4d04-b6b7-4536e298f907",
   "metadata": {},
   "outputs": [],
   "source": [
    "point_pn14_df = point_df[point_df['point_item_no']=='PN14']"
   ]
  },
  {
   "cell_type": "code",
   "execution_count": 25,
   "id": "bee4d475-69e8-4b53-a5e7-4426ee316baf",
   "metadata": {},
   "outputs": [],
   "source": [
    "students = point_df['student_designation'].unique()"
   ]
  },
  {
   "cell_type": "code",
   "execution_count": 27,
   "id": "d36c37e7-8b40-46d9-aa2b-99cd7b555086",
   "metadata": {},
   "outputs": [
    {
     "data": {
      "text/plain": [
       "array(['student1', 'student2', 'student3', 'student4', 'student5',\n",
       "       'student6', 'student7', 'student8', 'student9', 'student10',\n",
       "       'student11', 'student12', 'student13', 'student14', 'student15',\n",
       "       'student16', 'student17', 'student18', 'student19', 'student20'],\n",
       "      dtype=object)"
      ]
     },
     "execution_count": 27,
     "metadata": {},
     "output_type": "execute_result"
    }
   ],
   "source": [
    "students"
   ]
  },
  {
   "cell_type": "code",
   "execution_count": 29,
   "id": "7128afb2-8cb3-434c-ad78-516ad5f28cad",
   "metadata": {},
   "outputs": [
    {
     "data": {
      "text/html": [
       "<div>\n",
       "<style scoped>\n",
       "    .dataframe tbody tr th:only-of-type {\n",
       "        vertical-align: middle;\n",
       "    }\n",
       "\n",
       "    .dataframe tbody tr th {\n",
       "        vertical-align: top;\n",
       "    }\n",
       "\n",
       "    .dataframe thead th {\n",
       "        text-align: right;\n",
       "    }\n",
       "</style>\n",
       "<table border=\"1\" class=\"dataframe\">\n",
       "  <thead>\n",
       "    <tr style=\"text-align: right;\">\n",
       "      <th></th>\n",
       "      <th>point_item_no</th>\n",
       "      <th>student_designation</th>\n",
       "      <th>student_nomination</th>\n",
       "    </tr>\n",
       "  </thead>\n",
       "  <tbody>\n",
       "    <tr>\n",
       "      <th>364</th>\n",
       "      <td>PN14</td>\n",
       "      <td>student1</td>\n",
       "      <td>student8</td>\n",
       "    </tr>\n",
       "    <tr>\n",
       "      <th>365</th>\n",
       "      <td>PN14</td>\n",
       "      <td>student2</td>\n",
       "      <td>student9</td>\n",
       "    </tr>\n",
       "    <tr>\n",
       "      <th>366</th>\n",
       "      <td>PN14</td>\n",
       "      <td>student3</td>\n",
       "      <td>student9</td>\n",
       "    </tr>\n",
       "    <tr>\n",
       "      <th>367</th>\n",
       "      <td>PN14</td>\n",
       "      <td>student4</td>\n",
       "      <td>student12</td>\n",
       "    </tr>\n",
       "    <tr>\n",
       "      <th>368</th>\n",
       "      <td>PN14</td>\n",
       "      <td>student5</td>\n",
       "      <td>student15</td>\n",
       "    </tr>\n",
       "    <tr>\n",
       "      <th>369</th>\n",
       "      <td>PN14</td>\n",
       "      <td>student6</td>\n",
       "      <td>student19</td>\n",
       "    </tr>\n",
       "    <tr>\n",
       "      <th>370</th>\n",
       "      <td>PN14</td>\n",
       "      <td>student7</td>\n",
       "      <td>student16</td>\n",
       "    </tr>\n",
       "    <tr>\n",
       "      <th>371</th>\n",
       "      <td>PN14</td>\n",
       "      <td>student8</td>\n",
       "      <td>student2</td>\n",
       "    </tr>\n",
       "    <tr>\n",
       "      <th>372</th>\n",
       "      <td>PN14</td>\n",
       "      <td>student9</td>\n",
       "      <td>student17</td>\n",
       "    </tr>\n",
       "    <tr>\n",
       "      <th>373</th>\n",
       "      <td>PN14</td>\n",
       "      <td>student10</td>\n",
       "      <td>student18</td>\n",
       "    </tr>\n",
       "    <tr>\n",
       "      <th>374</th>\n",
       "      <td>PN14</td>\n",
       "      <td>student11</td>\n",
       "      <td>student1</td>\n",
       "    </tr>\n",
       "    <tr>\n",
       "      <th>375</th>\n",
       "      <td>PN14</td>\n",
       "      <td>student12</td>\n",
       "      <td>student19</td>\n",
       "    </tr>\n",
       "    <tr>\n",
       "      <th>376</th>\n",
       "      <td>PN14</td>\n",
       "      <td>student13</td>\n",
       "      <td>student17</td>\n",
       "    </tr>\n",
       "    <tr>\n",
       "      <th>377</th>\n",
       "      <td>PN14</td>\n",
       "      <td>student13</td>\n",
       "      <td>student20</td>\n",
       "    </tr>\n",
       "    <tr>\n",
       "      <th>378</th>\n",
       "      <td>PN14</td>\n",
       "      <td>student13</td>\n",
       "      <td>student16</td>\n",
       "    </tr>\n",
       "    <tr>\n",
       "      <th>379</th>\n",
       "      <td>PN14</td>\n",
       "      <td>student14</td>\n",
       "      <td>student15</td>\n",
       "    </tr>\n",
       "    <tr>\n",
       "      <th>380</th>\n",
       "      <td>PN14</td>\n",
       "      <td>student14</td>\n",
       "      <td>student5</td>\n",
       "    </tr>\n",
       "    <tr>\n",
       "      <th>381</th>\n",
       "      <td>PN14</td>\n",
       "      <td>student15</td>\n",
       "      <td>student4</td>\n",
       "    </tr>\n",
       "    <tr>\n",
       "      <th>382</th>\n",
       "      <td>PN14</td>\n",
       "      <td>student16</td>\n",
       "      <td>student19</td>\n",
       "    </tr>\n",
       "    <tr>\n",
       "      <th>383</th>\n",
       "      <td>PN14</td>\n",
       "      <td>student17</td>\n",
       "      <td>student7</td>\n",
       "    </tr>\n",
       "    <tr>\n",
       "      <th>384</th>\n",
       "      <td>PN14</td>\n",
       "      <td>student17</td>\n",
       "      <td>student3</td>\n",
       "    </tr>\n",
       "    <tr>\n",
       "      <th>385</th>\n",
       "      <td>PN14</td>\n",
       "      <td>student17</td>\n",
       "      <td>student11</td>\n",
       "    </tr>\n",
       "    <tr>\n",
       "      <th>386</th>\n",
       "      <td>PN14</td>\n",
       "      <td>student17</td>\n",
       "      <td>student9</td>\n",
       "    </tr>\n",
       "    <tr>\n",
       "      <th>387</th>\n",
       "      <td>PN14</td>\n",
       "      <td>student17</td>\n",
       "      <td>student1</td>\n",
       "    </tr>\n",
       "    <tr>\n",
       "      <th>388</th>\n",
       "      <td>PN14</td>\n",
       "      <td>student18</td>\n",
       "      <td>student15</td>\n",
       "    </tr>\n",
       "    <tr>\n",
       "      <th>389</th>\n",
       "      <td>PN14</td>\n",
       "      <td>student19</td>\n",
       "      <td>student11</td>\n",
       "    </tr>\n",
       "    <tr>\n",
       "      <th>390</th>\n",
       "      <td>PN14</td>\n",
       "      <td>student20</td>\n",
       "      <td>student2</td>\n",
       "    </tr>\n",
       "  </tbody>\n",
       "</table>\n",
       "</div>"
      ],
      "text/plain": [
       "    point_item_no student_designation student_nomination\n",
       "364          PN14            student1           student8\n",
       "365          PN14            student2           student9\n",
       "366          PN14            student3           student9\n",
       "367          PN14            student4          student12\n",
       "368          PN14            student5          student15\n",
       "369          PN14            student6          student19\n",
       "370          PN14            student7          student16\n",
       "371          PN14            student8           student2\n",
       "372          PN14            student9          student17\n",
       "373          PN14           student10          student18\n",
       "374          PN14           student11           student1\n",
       "375          PN14           student12          student19\n",
       "376          PN14           student13          student17\n",
       "377          PN14           student13          student20\n",
       "378          PN14           student13          student16\n",
       "379          PN14           student14          student15\n",
       "380          PN14           student14           student5\n",
       "381          PN14           student15           student4\n",
       "382          PN14           student16          student19\n",
       "383          PN14           student17           student7\n",
       "384          PN14           student17           student3\n",
       "385          PN14           student17          student11\n",
       "386          PN14           student17           student9\n",
       "387          PN14           student17           student1\n",
       "388          PN14           student18          student15\n",
       "389          PN14           student19          student11\n",
       "390          PN14           student20           student2"
      ]
     },
     "execution_count": 29,
     "metadata": {},
     "output_type": "execute_result"
    }
   ],
   "source": [
    "point_pn14_df"
   ]
  },
  {
   "cell_type": "code",
   "execution_count": 33,
   "id": "e7db5967-c5e4-4913-9ea2-f008831eb650",
   "metadata": {},
   "outputs": [
    {
     "name": "stdout",
     "output_type": "stream",
     "text": [
      "    point_item_no student_designation student_nomination\n",
      "364          PN14            student1           student8\n",
      "지목한 학생 : student1 지목당한 학생 : student8\n",
      "    point_item_no student_designation student_nomination\n",
      "365          PN14            student2           student9\n",
      "지목한 학생 : student2 지목당한 학생 : student9\n",
      "    point_item_no student_designation student_nomination\n",
      "366          PN14            student3           student9\n",
      "지목한 학생 : student3 지목당한 학생 : student9\n",
      "    point_item_no student_designation student_nomination\n",
      "367          PN14            student4          student12\n",
      "지목한 학생 : student4 지목당한 학생 : student12\n",
      "    point_item_no student_designation student_nomination\n",
      "368          PN14            student5          student15\n",
      "지목한 학생 : student5 지목당한 학생 : student15\n",
      "    point_item_no student_designation student_nomination\n",
      "369          PN14            student6          student19\n",
      "지목한 학생 : student6 지목당한 학생 : student19\n",
      "    point_item_no student_designation student_nomination\n",
      "370          PN14            student7          student16\n",
      "지목한 학생 : student7 지목당한 학생 : student16\n",
      "    point_item_no student_designation student_nomination\n",
      "371          PN14            student8           student2\n",
      "지목한 학생 : student8 지목당한 학생 : student2\n",
      "    point_item_no student_designation student_nomination\n",
      "372          PN14            student9          student17\n",
      "지목한 학생 : student9 지목당한 학생 : student17\n",
      "    point_item_no student_designation student_nomination\n",
      "373          PN14           student10          student18\n",
      "지목한 학생 : student10 지목당한 학생 : student18\n",
      "    point_item_no student_designation student_nomination\n",
      "374          PN14           student11           student1\n",
      "지목한 학생 : student11 지목당한 학생 : student1\n",
      "    point_item_no student_designation student_nomination\n",
      "375          PN14           student12          student19\n",
      "지목한 학생 : student12 지목당한 학생 : student19\n",
      "    point_item_no student_designation student_nomination\n",
      "376          PN14           student13          student17\n",
      "377          PN14           student13          student20\n",
      "378          PN14           student13          student16\n",
      "지목한 학생 : student13 지목당한 학생 : student17\n",
      "지목한 학생 : student13 지목당한 학생 : student20\n",
      "지목한 학생 : student13 지목당한 학생 : student16\n",
      "    point_item_no student_designation student_nomination\n",
      "379          PN14           student14          student15\n",
      "380          PN14           student14           student5\n",
      "지목한 학생 : student14 지목당한 학생 : student15\n",
      "지목한 학생 : student14 지목당한 학생 : student5\n",
      "    point_item_no student_designation student_nomination\n",
      "381          PN14           student15           student4\n",
      "지목한 학생 : student15 지목당한 학생 : student4\n",
      "    point_item_no student_designation student_nomination\n",
      "382          PN14           student16          student19\n",
      "지목한 학생 : student16 지목당한 학생 : student19\n",
      "    point_item_no student_designation student_nomination\n",
      "383          PN14           student17           student7\n",
      "384          PN14           student17           student3\n",
      "385          PN14           student17          student11\n",
      "386          PN14           student17           student9\n",
      "387          PN14           student17           student1\n",
      "지목한 학생 : student17 지목당한 학생 : student7\n",
      "지목한 학생 : student17 지목당한 학생 : student3\n",
      "지목한 학생 : student17 지목당한 학생 : student11\n",
      "지목한 학생 : student17 지목당한 학생 : student9\n",
      "지목한 학생 : student17 지목당한 학생 : student1\n",
      "    point_item_no student_designation student_nomination\n",
      "388          PN14           student18          student15\n",
      "지목한 학생 : student18 지목당한 학생 : student15\n",
      "    point_item_no student_designation student_nomination\n",
      "389          PN14           student19          student11\n",
      "지목한 학생 : student19 지목당한 학생 : student11\n",
      "    point_item_no student_designation student_nomination\n",
      "390          PN14           student20           student2\n",
      "지목한 학생 : student20 지목당한 학생 : student2\n"
     ]
    },
    {
     "data": {
      "text/html": [
       "<div>\n",
       "<style scoped>\n",
       "    .dataframe tbody tr th:only-of-type {\n",
       "        vertical-align: middle;\n",
       "    }\n",
       "\n",
       "    .dataframe tbody tr th {\n",
       "        vertical-align: top;\n",
       "    }\n",
       "\n",
       "    .dataframe thead th {\n",
       "        text-align: right;\n",
       "    }\n",
       "</style>\n",
       "<table border=\"1\" class=\"dataframe\">\n",
       "  <thead>\n",
       "    <tr style=\"text-align: right;\">\n",
       "      <th></th>\n",
       "      <th>student1</th>\n",
       "      <th>student2</th>\n",
       "      <th>student3</th>\n",
       "      <th>student4</th>\n",
       "      <th>student5</th>\n",
       "      <th>student6</th>\n",
       "      <th>student7</th>\n",
       "      <th>student8</th>\n",
       "      <th>student9</th>\n",
       "      <th>student10</th>\n",
       "      <th>student11</th>\n",
       "      <th>student12</th>\n",
       "      <th>student13</th>\n",
       "      <th>student14</th>\n",
       "      <th>student15</th>\n",
       "      <th>student16</th>\n",
       "      <th>student17</th>\n",
       "      <th>student18</th>\n",
       "      <th>student19</th>\n",
       "      <th>student20</th>\n",
       "    </tr>\n",
       "  </thead>\n",
       "  <tbody>\n",
       "    <tr>\n",
       "      <th>student1</th>\n",
       "      <td>0</td>\n",
       "      <td>0</td>\n",
       "      <td>0</td>\n",
       "      <td>0</td>\n",
       "      <td>0</td>\n",
       "      <td>0</td>\n",
       "      <td>0</td>\n",
       "      <td>1</td>\n",
       "      <td>0</td>\n",
       "      <td>0</td>\n",
       "      <td>0</td>\n",
       "      <td>0</td>\n",
       "      <td>0</td>\n",
       "      <td>0</td>\n",
       "      <td>0</td>\n",
       "      <td>0</td>\n",
       "      <td>0</td>\n",
       "      <td>0</td>\n",
       "      <td>0</td>\n",
       "      <td>0</td>\n",
       "    </tr>\n",
       "    <tr>\n",
       "      <th>student2</th>\n",
       "      <td>0</td>\n",
       "      <td>0</td>\n",
       "      <td>0</td>\n",
       "      <td>0</td>\n",
       "      <td>0</td>\n",
       "      <td>0</td>\n",
       "      <td>0</td>\n",
       "      <td>0</td>\n",
       "      <td>1</td>\n",
       "      <td>0</td>\n",
       "      <td>0</td>\n",
       "      <td>0</td>\n",
       "      <td>0</td>\n",
       "      <td>0</td>\n",
       "      <td>0</td>\n",
       "      <td>0</td>\n",
       "      <td>0</td>\n",
       "      <td>0</td>\n",
       "      <td>0</td>\n",
       "      <td>0</td>\n",
       "    </tr>\n",
       "    <tr>\n",
       "      <th>student3</th>\n",
       "      <td>0</td>\n",
       "      <td>0</td>\n",
       "      <td>0</td>\n",
       "      <td>0</td>\n",
       "      <td>0</td>\n",
       "      <td>0</td>\n",
       "      <td>0</td>\n",
       "      <td>0</td>\n",
       "      <td>1</td>\n",
       "      <td>0</td>\n",
       "      <td>0</td>\n",
       "      <td>0</td>\n",
       "      <td>0</td>\n",
       "      <td>0</td>\n",
       "      <td>0</td>\n",
       "      <td>0</td>\n",
       "      <td>0</td>\n",
       "      <td>0</td>\n",
       "      <td>0</td>\n",
       "      <td>0</td>\n",
       "    </tr>\n",
       "    <tr>\n",
       "      <th>student4</th>\n",
       "      <td>0</td>\n",
       "      <td>0</td>\n",
       "      <td>0</td>\n",
       "      <td>0</td>\n",
       "      <td>0</td>\n",
       "      <td>0</td>\n",
       "      <td>0</td>\n",
       "      <td>0</td>\n",
       "      <td>0</td>\n",
       "      <td>0</td>\n",
       "      <td>0</td>\n",
       "      <td>1</td>\n",
       "      <td>0</td>\n",
       "      <td>0</td>\n",
       "      <td>0</td>\n",
       "      <td>0</td>\n",
       "      <td>0</td>\n",
       "      <td>0</td>\n",
       "      <td>0</td>\n",
       "      <td>0</td>\n",
       "    </tr>\n",
       "    <tr>\n",
       "      <th>student5</th>\n",
       "      <td>0</td>\n",
       "      <td>0</td>\n",
       "      <td>0</td>\n",
       "      <td>0</td>\n",
       "      <td>0</td>\n",
       "      <td>0</td>\n",
       "      <td>0</td>\n",
       "      <td>0</td>\n",
       "      <td>0</td>\n",
       "      <td>0</td>\n",
       "      <td>0</td>\n",
       "      <td>0</td>\n",
       "      <td>0</td>\n",
       "      <td>0</td>\n",
       "      <td>1</td>\n",
       "      <td>0</td>\n",
       "      <td>0</td>\n",
       "      <td>0</td>\n",
       "      <td>0</td>\n",
       "      <td>0</td>\n",
       "    </tr>\n",
       "    <tr>\n",
       "      <th>student6</th>\n",
       "      <td>0</td>\n",
       "      <td>0</td>\n",
       "      <td>0</td>\n",
       "      <td>0</td>\n",
       "      <td>0</td>\n",
       "      <td>0</td>\n",
       "      <td>0</td>\n",
       "      <td>0</td>\n",
       "      <td>0</td>\n",
       "      <td>0</td>\n",
       "      <td>0</td>\n",
       "      <td>0</td>\n",
       "      <td>0</td>\n",
       "      <td>0</td>\n",
       "      <td>0</td>\n",
       "      <td>0</td>\n",
       "      <td>0</td>\n",
       "      <td>0</td>\n",
       "      <td>1</td>\n",
       "      <td>0</td>\n",
       "    </tr>\n",
       "    <tr>\n",
       "      <th>student7</th>\n",
       "      <td>0</td>\n",
       "      <td>0</td>\n",
       "      <td>0</td>\n",
       "      <td>0</td>\n",
       "      <td>0</td>\n",
       "      <td>0</td>\n",
       "      <td>0</td>\n",
       "      <td>0</td>\n",
       "      <td>0</td>\n",
       "      <td>0</td>\n",
       "      <td>0</td>\n",
       "      <td>0</td>\n",
       "      <td>0</td>\n",
       "      <td>0</td>\n",
       "      <td>0</td>\n",
       "      <td>1</td>\n",
       "      <td>0</td>\n",
       "      <td>0</td>\n",
       "      <td>0</td>\n",
       "      <td>0</td>\n",
       "    </tr>\n",
       "    <tr>\n",
       "      <th>student8</th>\n",
       "      <td>0</td>\n",
       "      <td>1</td>\n",
       "      <td>0</td>\n",
       "      <td>0</td>\n",
       "      <td>0</td>\n",
       "      <td>0</td>\n",
       "      <td>0</td>\n",
       "      <td>0</td>\n",
       "      <td>0</td>\n",
       "      <td>0</td>\n",
       "      <td>0</td>\n",
       "      <td>0</td>\n",
       "      <td>0</td>\n",
       "      <td>0</td>\n",
       "      <td>0</td>\n",
       "      <td>0</td>\n",
       "      <td>0</td>\n",
       "      <td>0</td>\n",
       "      <td>0</td>\n",
       "      <td>0</td>\n",
       "    </tr>\n",
       "    <tr>\n",
       "      <th>student9</th>\n",
       "      <td>0</td>\n",
       "      <td>0</td>\n",
       "      <td>0</td>\n",
       "      <td>0</td>\n",
       "      <td>0</td>\n",
       "      <td>0</td>\n",
       "      <td>0</td>\n",
       "      <td>0</td>\n",
       "      <td>0</td>\n",
       "      <td>0</td>\n",
       "      <td>0</td>\n",
       "      <td>0</td>\n",
       "      <td>0</td>\n",
       "      <td>0</td>\n",
       "      <td>0</td>\n",
       "      <td>0</td>\n",
       "      <td>1</td>\n",
       "      <td>0</td>\n",
       "      <td>0</td>\n",
       "      <td>0</td>\n",
       "    </tr>\n",
       "    <tr>\n",
       "      <th>student10</th>\n",
       "      <td>0</td>\n",
       "      <td>0</td>\n",
       "      <td>0</td>\n",
       "      <td>0</td>\n",
       "      <td>0</td>\n",
       "      <td>0</td>\n",
       "      <td>0</td>\n",
       "      <td>0</td>\n",
       "      <td>0</td>\n",
       "      <td>0</td>\n",
       "      <td>0</td>\n",
       "      <td>0</td>\n",
       "      <td>0</td>\n",
       "      <td>0</td>\n",
       "      <td>0</td>\n",
       "      <td>0</td>\n",
       "      <td>0</td>\n",
       "      <td>1</td>\n",
       "      <td>0</td>\n",
       "      <td>0</td>\n",
       "    </tr>\n",
       "    <tr>\n",
       "      <th>student11</th>\n",
       "      <td>1</td>\n",
       "      <td>0</td>\n",
       "      <td>0</td>\n",
       "      <td>0</td>\n",
       "      <td>0</td>\n",
       "      <td>0</td>\n",
       "      <td>0</td>\n",
       "      <td>0</td>\n",
       "      <td>0</td>\n",
       "      <td>0</td>\n",
       "      <td>0</td>\n",
       "      <td>0</td>\n",
       "      <td>0</td>\n",
       "      <td>0</td>\n",
       "      <td>0</td>\n",
       "      <td>0</td>\n",
       "      <td>0</td>\n",
       "      <td>0</td>\n",
       "      <td>0</td>\n",
       "      <td>0</td>\n",
       "    </tr>\n",
       "    <tr>\n",
       "      <th>student12</th>\n",
       "      <td>0</td>\n",
       "      <td>0</td>\n",
       "      <td>0</td>\n",
       "      <td>0</td>\n",
       "      <td>0</td>\n",
       "      <td>0</td>\n",
       "      <td>0</td>\n",
       "      <td>0</td>\n",
       "      <td>0</td>\n",
       "      <td>0</td>\n",
       "      <td>0</td>\n",
       "      <td>0</td>\n",
       "      <td>0</td>\n",
       "      <td>0</td>\n",
       "      <td>0</td>\n",
       "      <td>0</td>\n",
       "      <td>0</td>\n",
       "      <td>0</td>\n",
       "      <td>1</td>\n",
       "      <td>0</td>\n",
       "    </tr>\n",
       "    <tr>\n",
       "      <th>student13</th>\n",
       "      <td>0</td>\n",
       "      <td>0</td>\n",
       "      <td>0</td>\n",
       "      <td>0</td>\n",
       "      <td>0</td>\n",
       "      <td>0</td>\n",
       "      <td>0</td>\n",
       "      <td>0</td>\n",
       "      <td>0</td>\n",
       "      <td>0</td>\n",
       "      <td>0</td>\n",
       "      <td>0</td>\n",
       "      <td>0</td>\n",
       "      <td>0</td>\n",
       "      <td>0</td>\n",
       "      <td>1</td>\n",
       "      <td>1</td>\n",
       "      <td>0</td>\n",
       "      <td>0</td>\n",
       "      <td>1</td>\n",
       "    </tr>\n",
       "    <tr>\n",
       "      <th>student14</th>\n",
       "      <td>0</td>\n",
       "      <td>0</td>\n",
       "      <td>0</td>\n",
       "      <td>0</td>\n",
       "      <td>1</td>\n",
       "      <td>0</td>\n",
       "      <td>0</td>\n",
       "      <td>0</td>\n",
       "      <td>0</td>\n",
       "      <td>0</td>\n",
       "      <td>0</td>\n",
       "      <td>0</td>\n",
       "      <td>0</td>\n",
       "      <td>0</td>\n",
       "      <td>1</td>\n",
       "      <td>0</td>\n",
       "      <td>0</td>\n",
       "      <td>0</td>\n",
       "      <td>0</td>\n",
       "      <td>0</td>\n",
       "    </tr>\n",
       "    <tr>\n",
       "      <th>student15</th>\n",
       "      <td>0</td>\n",
       "      <td>0</td>\n",
       "      <td>0</td>\n",
       "      <td>1</td>\n",
       "      <td>0</td>\n",
       "      <td>0</td>\n",
       "      <td>0</td>\n",
       "      <td>0</td>\n",
       "      <td>0</td>\n",
       "      <td>0</td>\n",
       "      <td>0</td>\n",
       "      <td>0</td>\n",
       "      <td>0</td>\n",
       "      <td>0</td>\n",
       "      <td>0</td>\n",
       "      <td>0</td>\n",
       "      <td>0</td>\n",
       "      <td>0</td>\n",
       "      <td>0</td>\n",
       "      <td>0</td>\n",
       "    </tr>\n",
       "    <tr>\n",
       "      <th>student16</th>\n",
       "      <td>0</td>\n",
       "      <td>0</td>\n",
       "      <td>0</td>\n",
       "      <td>0</td>\n",
       "      <td>0</td>\n",
       "      <td>0</td>\n",
       "      <td>0</td>\n",
       "      <td>0</td>\n",
       "      <td>0</td>\n",
       "      <td>0</td>\n",
       "      <td>0</td>\n",
       "      <td>0</td>\n",
       "      <td>0</td>\n",
       "      <td>0</td>\n",
       "      <td>0</td>\n",
       "      <td>0</td>\n",
       "      <td>0</td>\n",
       "      <td>0</td>\n",
       "      <td>1</td>\n",
       "      <td>0</td>\n",
       "    </tr>\n",
       "    <tr>\n",
       "      <th>student17</th>\n",
       "      <td>1</td>\n",
       "      <td>0</td>\n",
       "      <td>1</td>\n",
       "      <td>0</td>\n",
       "      <td>0</td>\n",
       "      <td>0</td>\n",
       "      <td>1</td>\n",
       "      <td>0</td>\n",
       "      <td>1</td>\n",
       "      <td>0</td>\n",
       "      <td>1</td>\n",
       "      <td>0</td>\n",
       "      <td>0</td>\n",
       "      <td>0</td>\n",
       "      <td>0</td>\n",
       "      <td>0</td>\n",
       "      <td>0</td>\n",
       "      <td>0</td>\n",
       "      <td>0</td>\n",
       "      <td>0</td>\n",
       "    </tr>\n",
       "    <tr>\n",
       "      <th>student18</th>\n",
       "      <td>0</td>\n",
       "      <td>0</td>\n",
       "      <td>0</td>\n",
       "      <td>0</td>\n",
       "      <td>0</td>\n",
       "      <td>0</td>\n",
       "      <td>0</td>\n",
       "      <td>0</td>\n",
       "      <td>0</td>\n",
       "      <td>0</td>\n",
       "      <td>0</td>\n",
       "      <td>0</td>\n",
       "      <td>0</td>\n",
       "      <td>0</td>\n",
       "      <td>1</td>\n",
       "      <td>0</td>\n",
       "      <td>0</td>\n",
       "      <td>0</td>\n",
       "      <td>0</td>\n",
       "      <td>0</td>\n",
       "    </tr>\n",
       "    <tr>\n",
       "      <th>student19</th>\n",
       "      <td>0</td>\n",
       "      <td>0</td>\n",
       "      <td>0</td>\n",
       "      <td>0</td>\n",
       "      <td>0</td>\n",
       "      <td>0</td>\n",
       "      <td>0</td>\n",
       "      <td>0</td>\n",
       "      <td>0</td>\n",
       "      <td>0</td>\n",
       "      <td>1</td>\n",
       "      <td>0</td>\n",
       "      <td>0</td>\n",
       "      <td>0</td>\n",
       "      <td>0</td>\n",
       "      <td>0</td>\n",
       "      <td>0</td>\n",
       "      <td>0</td>\n",
       "      <td>0</td>\n",
       "      <td>0</td>\n",
       "    </tr>\n",
       "    <tr>\n",
       "      <th>student20</th>\n",
       "      <td>0</td>\n",
       "      <td>1</td>\n",
       "      <td>0</td>\n",
       "      <td>0</td>\n",
       "      <td>0</td>\n",
       "      <td>0</td>\n",
       "      <td>0</td>\n",
       "      <td>0</td>\n",
       "      <td>0</td>\n",
       "      <td>0</td>\n",
       "      <td>0</td>\n",
       "      <td>0</td>\n",
       "      <td>0</td>\n",
       "      <td>0</td>\n",
       "      <td>0</td>\n",
       "      <td>0</td>\n",
       "      <td>0</td>\n",
       "      <td>0</td>\n",
       "      <td>0</td>\n",
       "      <td>0</td>\n",
       "    </tr>\n",
       "  </tbody>\n",
       "</table>\n",
       "</div>"
      ],
      "text/plain": [
       "           student1  student2  student3  student4  student5  student6  \\\n",
       "student1          0         0         0         0         0         0   \n",
       "student2          0         0         0         0         0         0   \n",
       "student3          0         0         0         0         0         0   \n",
       "student4          0         0         0         0         0         0   \n",
       "student5          0         0         0         0         0         0   \n",
       "student6          0         0         0         0         0         0   \n",
       "student7          0         0         0         0         0         0   \n",
       "student8          0         1         0         0         0         0   \n",
       "student9          0         0         0         0         0         0   \n",
       "student10         0         0         0         0         0         0   \n",
       "student11         1         0         0         0         0         0   \n",
       "student12         0         0         0         0         0         0   \n",
       "student13         0         0         0         0         0         0   \n",
       "student14         0         0         0         0         1         0   \n",
       "student15         0         0         0         1         0         0   \n",
       "student16         0         0         0         0         0         0   \n",
       "student17         1         0         1         0         0         0   \n",
       "student18         0         0         0         0         0         0   \n",
       "student19         0         0         0         0         0         0   \n",
       "student20         0         1         0         0         0         0   \n",
       "\n",
       "           student7  student8  student9  student10  student11  student12  \\\n",
       "student1          0         1         0          0          0          0   \n",
       "student2          0         0         1          0          0          0   \n",
       "student3          0         0         1          0          0          0   \n",
       "student4          0         0         0          0          0          1   \n",
       "student5          0         0         0          0          0          0   \n",
       "student6          0         0         0          0          0          0   \n",
       "student7          0         0         0          0          0          0   \n",
       "student8          0         0         0          0          0          0   \n",
       "student9          0         0         0          0          0          0   \n",
       "student10         0         0         0          0          0          0   \n",
       "student11         0         0         0          0          0          0   \n",
       "student12         0         0         0          0          0          0   \n",
       "student13         0         0         0          0          0          0   \n",
       "student14         0         0         0          0          0          0   \n",
       "student15         0         0         0          0          0          0   \n",
       "student16         0         0         0          0          0          0   \n",
       "student17         1         0         1          0          1          0   \n",
       "student18         0         0         0          0          0          0   \n",
       "student19         0         0         0          0          1          0   \n",
       "student20         0         0         0          0          0          0   \n",
       "\n",
       "           student13  student14  student15  student16  student17  student18  \\\n",
       "student1           0          0          0          0          0          0   \n",
       "student2           0          0          0          0          0          0   \n",
       "student3           0          0          0          0          0          0   \n",
       "student4           0          0          0          0          0          0   \n",
       "student5           0          0          1          0          0          0   \n",
       "student6           0          0          0          0          0          0   \n",
       "student7           0          0          0          1          0          0   \n",
       "student8           0          0          0          0          0          0   \n",
       "student9           0          0          0          0          1          0   \n",
       "student10          0          0          0          0          0          1   \n",
       "student11          0          0          0          0          0          0   \n",
       "student12          0          0          0          0          0          0   \n",
       "student13          0          0          0          1          1          0   \n",
       "student14          0          0          1          0          0          0   \n",
       "student15          0          0          0          0          0          0   \n",
       "student16          0          0          0          0          0          0   \n",
       "student17          0          0          0          0          0          0   \n",
       "student18          0          0          1          0          0          0   \n",
       "student19          0          0          0          0          0          0   \n",
       "student20          0          0          0          0          0          0   \n",
       "\n",
       "           student19  student20  \n",
       "student1           0          0  \n",
       "student2           0          0  \n",
       "student3           0          0  \n",
       "student4           0          0  \n",
       "student5           0          0  \n",
       "student6           1          0  \n",
       "student7           0          0  \n",
       "student8           0          0  \n",
       "student9           0          0  \n",
       "student10          0          0  \n",
       "student11          0          0  \n",
       "student12          1          0  \n",
       "student13          0          1  \n",
       "student14          0          0  \n",
       "student15          0          0  \n",
       "student16          1          0  \n",
       "student17          0          0  \n",
       "student18          0          0  \n",
       "student19          0          0  \n",
       "student20          0          0  "
      ]
     },
     "execution_count": 33,
     "metadata": {},
     "output_type": "execute_result"
    }
   ],
   "source": [
    "import numpy as np\n",
    "# 행렬화\n",
    "students = point_df['student_designation'].unique()\n",
    "num = len(students)\n",
    "zero_matrix = np.zeros((num, num), dtype=int)\n",
    "point_matrix = pd.DataFrame(zero_matrix, index=students, columns=students)\n",
    "for select in students : # 선택하는 학생\n",
    "    selected_df=point_pn14_df[point_pn14_df['student_designation']==select]\n",
    "    print(selected_df)\n",
    "    for selected in list(selected_df['student_nomination']) : # 선택당하는 학생\n",
    "        print('지목한 학생 :', select, '지목당한 학생 :', selected)\n",
    "        point_matrix.loc[select, selected]=1\n",
    "point_matrix"
   ]
  },
  {
   "cell_type": "markdown",
   "id": "327c513d-cb86-4e41-a043-283a582c7a0e",
   "metadata": {},
   "source": [
    "행렬 밀도 산출 함수"
   ]
  },
  {
   "cell_type": "code",
   "execution_count": 36,
   "id": "71cae2bd-d2a2-46db-bb05-eea905fadb18",
   "metadata": {},
   "outputs": [],
   "source": [
    "# 최대 지목 가능한 수 계산\n",
    "# 방향 네트워크의 최대 엣지 수 : N * (N-1)\n",
    "\n",
    "def max_edges(point_matrix) :\n",
    "    n=len(point_matrix)\n",
    "    max_edges=n*(n-1)\n",
    "    return max_edges"
   ]
  },
  {
   "cell_type": "code",
   "execution_count": 38,
   "id": "0e98f9c5-3147-4c9f-8f28-421380e18b5b",
   "metadata": {},
   "outputs": [],
   "source": [
    "# 지목한 수 계산\n",
    "# 방향 네트워크의 엣지 수\n",
    "\n",
    "def edges(point_matrix) :\n",
    "    point_array = np.array(point_matrix)\n",
    "    edges = np.sum(point_array)\n",
    "    return edges"
   ]
  },
  {
   "cell_type": "code",
   "execution_count": 40,
   "id": "63fdc8a5-a898-4a65-84b7-6feb072e57fc",
   "metadata": {},
   "outputs": [],
   "source": [
    "# 방향 네트워크 밀도 구하는 함수\n",
    "\n",
    "def density(point_matrix) :\n",
    "    a = edges(point_matrix)\n",
    "    b = max_edges(point_matrix)\n",
    "    density = round(a/b,2)\n",
    "    return density"
   ]
  },
  {
   "cell_type": "code",
   "execution_count": 44,
   "id": "5c3cd2e5-62f6-46be-b4d9-d98599e9ae63",
   "metadata": {},
   "outputs": [
    {
     "data": {
      "text/plain": [
       "380"
      ]
     },
     "execution_count": 44,
     "metadata": {},
     "output_type": "execute_result"
    }
   ],
   "source": [
    "# 최대 지명 가능한 수\n",
    "max_edges(point_matrix)"
   ]
  },
  {
   "cell_type": "code",
   "execution_count": 46,
   "id": "ccc7262d-7ea9-4d45-8998-39737853c9f8",
   "metadata": {},
   "outputs": [
    {
     "data": {
      "text/plain": [
       "27"
      ]
     },
     "execution_count": 46,
     "metadata": {},
     "output_type": "execute_result"
    }
   ],
   "source": [
    "# 지명한 수\n",
    "edges(point_matrix)"
   ]
  },
  {
   "cell_type": "code",
   "execution_count": 42,
   "id": "88eea52e-5a3f-47e6-98fb-0a58098fc744",
   "metadata": {},
   "outputs": [
    {
     "data": {
      "text/plain": [
       "0.07"
      ]
     },
     "execution_count": 42,
     "metadata": {},
     "output_type": "execute_result"
    }
   ],
   "source": [
    "# 관계 밀도\n",
    "density(point_matrix)"
   ]
  },
  {
   "cell_type": "markdown",
   "id": "ad5daad3-ab27-46c3-8370-25a2910e99d4",
   "metadata": {},
   "source": [
    "저자측 노션 내용 :  \n",
    "Rsna 패키지를 활용해서, 친구관계 행렬의 집중화도  \n",
    "(친구관계 지명의 표준편차 계산\n",
    "***"
   ]
  },
  {
   "cell_type": "markdown",
   "id": "179ad865-aa84-45bf-bf30-34c05315039f",
   "metadata": {},
   "source": [
    "해석하기 위해 다음과 같이 살펴봄  \n",
    "집중화도 : 일부 학생에 지명이 집중되는 정도(중심성)  \n",
    "예를 들어 어떤 학생이 대부분의 지명을 받았다면 집중화도가 높고, 지명이 골고루 분포되어 있다면 집중화도가 낮다고 할 수 있음"
   ]
  },
  {
   "cell_type": "code",
   "execution_count": 48,
   "id": "622370e1-b554-4621-bb82-7cd48c6242c4",
   "metadata": {},
   "outputs": [],
   "source": [
    "def centralization(point_matrix) :\n",
    "    point_array=np.array(point_matrix)\n",
    "    seleted_count=point_array.sum(axis=0)\n",
    "    centralization=round(np.std(seleted_count),2)\n",
    "    return centralization"
   ]
  },
  {
   "cell_type": "code",
   "execution_count": 50,
   "id": "3d325594-b416-4fba-a086-dac23f4d79e0",
   "metadata": {},
   "outputs": [
    {
     "data": {
      "text/plain": [
       "0.96"
      ]
     },
     "execution_count": 50,
     "metadata": {},
     "output_type": "execute_result"
    }
   ],
   "source": [
    "centralization(point_matrix)"
   ]
  },
  {
   "cell_type": "markdown",
   "id": "53fd0926-240f-464b-9927-15090401c390",
   "metadata": {},
   "source": [
    "저자측 자료 내용은 다음과 같다.  \n",
    "\n",
    "공격성 규범 척도  \n",
    "또래지명으로 측정된 공격성*친구관계 가중치의 학급평균치\n",
    "***"
   ]
  },
  {
   "cell_type": "markdown",
   "id": "6b2d5913-e9c8-4e69-983d-0f1c1dba75a8",
   "metadata": {},
   "source": [
    "해석하기 위해 다음과 같이 탐색하였다.  \n",
    "\n",
    "공격성 규범이란?  \n",
    "공격성이 학습 내에서 얼마나 용인되고, 친구관계에서 어떻게 작용하는지 나타내는 값  \n",
    "즉, 공격적인 행동을 보이는 학생들이 학급 내에서 어떤 사회적 위치를 가지는지를 평가하는 것으로  \n",
    "이 값이 높다는 것은 공격적인 학생들이 학급 내에서 사회적으로 더 인정받거나 영향력이 있다는 의미일 수 있음.\n",
    "***"
   ]
  },
  {
   "cell_type": "markdown",
   "id": "bdfe21ae-92c3-459f-9069-eab2f469569d",
   "metadata": {},
   "source": [
    "산출식(확인 필요)   \n",
    "### $ \\frac{SUM([학생별 공격적 지명 횟수 리스트] * [학생별 친한 친구 지명 횟수 리스트])}{학생 수} $  "
   ]
  },
  {
   "cell_type": "code",
   "execution_count": null,
   "id": "2de40b70-bc64-49ee-a955-d1fdd9ac9fda",
   "metadata": {},
   "outputs": [],
   "source": [
    "def aggressive_count(point_df, item):\n",
    "    item='|'.join(item)\n",
    "    point_agg_df = point_df[point_df['point_item_no'].str.fullmatch(item)]\n",
    "    students = point_agg_df['student_designation'].unique()"
   ]
  },
  {
   "cell_type": "code",
   "execution_count": null,
   "id": "bbae2b83-82b7-42fe-a583-9ba811495719",
   "metadata": {},
   "outputs": [],
   "source": [
    "students = point_df['student_designation'].unique()\n",
    "num = len(students)\n",
    "zero_matrix = np.zeros((num, num), dtype=int)\n",
    "point_matrix = pd.DataFrame(zero_matrix, index=students, columns=students)\n",
    "for select in students : # 선택하는 학생\n",
    "    selected_df=point_pn14_df[point_pn14_df['student_designation']==select]\n",
    "    print(selected_df)\n",
    "    for selected in list(selected_df['student_nomination']) : # 선택당하는 학생\n",
    "        print('지목한 학생 :', select, '지목당한 학생 :', selected)\n",
    "        point_matrix.loc[select, selected]=1\n",
    "point_matrix"
   ]
  },
  {
   "cell_type": "code",
   "execution_count": 9,
   "id": "3a6bad29-6e89-48f0-874e-569aecddcf7f",
   "metadata": {},
   "outputs": [
    {
     "name": "stdout",
     "output_type": "stream",
     "text": [
      "[0.22246738231469407, 0.33115586224115084, -0.11140517693921083, -0.017925099012690952, -0.1515123125347082, -0.2727806560692348]\n",
      "[-0.7338088600926046, -0.3955521669831778, -0.3603656334169328, -0.01866960436123475, 0.5083962648539493, 1.0]\n"
     ]
    },
    {
     "data": {
      "application/vnd.plotly.v1+json": {
       "config": {
        "plotlyServerURL": "https://plot.ly"
       },
       "data": [
        {
         "line": {
          "color": "gray",
          "width": 5
         },
         "mode": "lines",
         "type": "scatter",
         "x": [
          0.22246738231469407,
          0.33115586224115084
         ],
         "y": [
          -0.7338088600926046,
          -0.3955521669831778
         ]
        },
        {
         "line": {
          "color": "gray",
          "width": 2.4
         },
         "mode": "lines",
         "type": "scatter",
         "x": [
          0.22246738231469407,
          -0.11140517693921083
         ],
         "y": [
          -0.7338088600926046,
          -0.3603656334169328
         ]
        },
        {
         "line": {
          "color": "gray",
          "width": 3.4
         },
         "mode": "lines",
         "type": "scatter",
         "x": [
          0.33115586224115084,
          -0.017925099012690952
         ],
         "y": [
          -0.3955521669831778,
          -0.01866960436123475
         ]
        },
        {
         "line": {
          "color": "gray",
          "width": 7.6
         },
         "mode": "lines",
         "type": "scatter",
         "x": [
          -0.11140517693921083,
          -0.017925099012690952
         ],
         "y": [
          -0.3603656334169328,
          -0.01866960436123475
         ]
        },
        {
         "line": {
          "color": "gray",
          "width": 4
         },
         "mode": "lines",
         "type": "scatter",
         "x": [
          -0.017925099012690952,
          -0.1515123125347082
         ],
         "y": [
          -0.01866960436123475,
          0.5083962648539493
         ]
        },
        {
         "line": {
          "color": "gray",
          "width": 3
         },
         "mode": "lines",
         "type": "scatter",
         "x": [
          -0.1515123125347082,
          -0.2727806560692348
         ],
         "y": [
          0.5083962648539493,
          1
         ]
        },
        {
         "marker": {
          "color": [
           "orange",
           "orange",
           "orange",
           "lightblue",
           "orange",
           "orange"
          ],
          "line": {
           "color": "black",
           "width": 2
          },
          "opacity": 1,
          "size": [
           25,
           25,
           25,
           30,
           25,
           20
          ]
         },
         "mode": "markers+text",
         "text": [
          "1",
          "2",
          "3",
          "4",
          "5",
          "6"
         ],
         "textposition": "top center",
         "type": "scatter",
         "x": [
          0.22246738231469407,
          0.33115586224115084,
          -0.11140517693921083,
          -0.017925099012690952,
          -0.1515123125347082,
          -0.2727806560692348
         ],
         "y": [
          -0.7338088600926046,
          -0.3955521669831778,
          -0.3603656334169328,
          -0.01866960436123475,
          0.5083962648539493,
          1
         ]
        }
       ],
       "layout": {
        "autosize": true,
        "margin": {
         "b": 20,
         "l": 20,
         "r": 20,
         "t": 40
        },
        "showlegend": false,
        "template": {
         "data": {
          "bar": [
           {
            "error_x": {
             "color": "#2a3f5f"
            },
            "error_y": {
             "color": "#2a3f5f"
            },
            "marker": {
             "line": {
              "color": "#E5ECF6",
              "width": 0.5
             },
             "pattern": {
              "fillmode": "overlay",
              "size": 10,
              "solidity": 0.2
             }
            },
            "type": "bar"
           }
          ],
          "barpolar": [
           {
            "marker": {
             "line": {
              "color": "#E5ECF6",
              "width": 0.5
             },
             "pattern": {
              "fillmode": "overlay",
              "size": 10,
              "solidity": 0.2
             }
            },
            "type": "barpolar"
           }
          ],
          "carpet": [
           {
            "aaxis": {
             "endlinecolor": "#2a3f5f",
             "gridcolor": "white",
             "linecolor": "white",
             "minorgridcolor": "white",
             "startlinecolor": "#2a3f5f"
            },
            "baxis": {
             "endlinecolor": "#2a3f5f",
             "gridcolor": "white",
             "linecolor": "white",
             "minorgridcolor": "white",
             "startlinecolor": "#2a3f5f"
            },
            "type": "carpet"
           }
          ],
          "choropleth": [
           {
            "colorbar": {
             "outlinewidth": 0,
             "ticks": ""
            },
            "type": "choropleth"
           }
          ],
          "contour": [
           {
            "colorbar": {
             "outlinewidth": 0,
             "ticks": ""
            },
            "colorscale": [
             [
              0,
              "#0d0887"
             ],
             [
              0.1111111111111111,
              "#46039f"
             ],
             [
              0.2222222222222222,
              "#7201a8"
             ],
             [
              0.3333333333333333,
              "#9c179e"
             ],
             [
              0.4444444444444444,
              "#bd3786"
             ],
             [
              0.5555555555555556,
              "#d8576b"
             ],
             [
              0.6666666666666666,
              "#ed7953"
             ],
             [
              0.7777777777777778,
              "#fb9f3a"
             ],
             [
              0.8888888888888888,
              "#fdca26"
             ],
             [
              1,
              "#f0f921"
             ]
            ],
            "type": "contour"
           }
          ],
          "contourcarpet": [
           {
            "colorbar": {
             "outlinewidth": 0,
             "ticks": ""
            },
            "type": "contourcarpet"
           }
          ],
          "heatmap": [
           {
            "colorbar": {
             "outlinewidth": 0,
             "ticks": ""
            },
            "colorscale": [
             [
              0,
              "#0d0887"
             ],
             [
              0.1111111111111111,
              "#46039f"
             ],
             [
              0.2222222222222222,
              "#7201a8"
             ],
             [
              0.3333333333333333,
              "#9c179e"
             ],
             [
              0.4444444444444444,
              "#bd3786"
             ],
             [
              0.5555555555555556,
              "#d8576b"
             ],
             [
              0.6666666666666666,
              "#ed7953"
             ],
             [
              0.7777777777777778,
              "#fb9f3a"
             ],
             [
              0.8888888888888888,
              "#fdca26"
             ],
             [
              1,
              "#f0f921"
             ]
            ],
            "type": "heatmap"
           }
          ],
          "heatmapgl": [
           {
            "colorbar": {
             "outlinewidth": 0,
             "ticks": ""
            },
            "colorscale": [
             [
              0,
              "#0d0887"
             ],
             [
              0.1111111111111111,
              "#46039f"
             ],
             [
              0.2222222222222222,
              "#7201a8"
             ],
             [
              0.3333333333333333,
              "#9c179e"
             ],
             [
              0.4444444444444444,
              "#bd3786"
             ],
             [
              0.5555555555555556,
              "#d8576b"
             ],
             [
              0.6666666666666666,
              "#ed7953"
             ],
             [
              0.7777777777777778,
              "#fb9f3a"
             ],
             [
              0.8888888888888888,
              "#fdca26"
             ],
             [
              1,
              "#f0f921"
             ]
            ],
            "type": "heatmapgl"
           }
          ],
          "histogram": [
           {
            "marker": {
             "pattern": {
              "fillmode": "overlay",
              "size": 10,
              "solidity": 0.2
             }
            },
            "type": "histogram"
           }
          ],
          "histogram2d": [
           {
            "colorbar": {
             "outlinewidth": 0,
             "ticks": ""
            },
            "colorscale": [
             [
              0,
              "#0d0887"
             ],
             [
              0.1111111111111111,
              "#46039f"
             ],
             [
              0.2222222222222222,
              "#7201a8"
             ],
             [
              0.3333333333333333,
              "#9c179e"
             ],
             [
              0.4444444444444444,
              "#bd3786"
             ],
             [
              0.5555555555555556,
              "#d8576b"
             ],
             [
              0.6666666666666666,
              "#ed7953"
             ],
             [
              0.7777777777777778,
              "#fb9f3a"
             ],
             [
              0.8888888888888888,
              "#fdca26"
             ],
             [
              1,
              "#f0f921"
             ]
            ],
            "type": "histogram2d"
           }
          ],
          "histogram2dcontour": [
           {
            "colorbar": {
             "outlinewidth": 0,
             "ticks": ""
            },
            "colorscale": [
             [
              0,
              "#0d0887"
             ],
             [
              0.1111111111111111,
              "#46039f"
             ],
             [
              0.2222222222222222,
              "#7201a8"
             ],
             [
              0.3333333333333333,
              "#9c179e"
             ],
             [
              0.4444444444444444,
              "#bd3786"
             ],
             [
              0.5555555555555556,
              "#d8576b"
             ],
             [
              0.6666666666666666,
              "#ed7953"
             ],
             [
              0.7777777777777778,
              "#fb9f3a"
             ],
             [
              0.8888888888888888,
              "#fdca26"
             ],
             [
              1,
              "#f0f921"
             ]
            ],
            "type": "histogram2dcontour"
           }
          ],
          "mesh3d": [
           {
            "colorbar": {
             "outlinewidth": 0,
             "ticks": ""
            },
            "type": "mesh3d"
           }
          ],
          "parcoords": [
           {
            "line": {
             "colorbar": {
              "outlinewidth": 0,
              "ticks": ""
             }
            },
            "type": "parcoords"
           }
          ],
          "pie": [
           {
            "automargin": true,
            "type": "pie"
           }
          ],
          "scatter": [
           {
            "fillpattern": {
             "fillmode": "overlay",
             "size": 10,
             "solidity": 0.2
            },
            "type": "scatter"
           }
          ],
          "scatter3d": [
           {
            "line": {
             "colorbar": {
              "outlinewidth": 0,
              "ticks": ""
             }
            },
            "marker": {
             "colorbar": {
              "outlinewidth": 0,
              "ticks": ""
             }
            },
            "type": "scatter3d"
           }
          ],
          "scattercarpet": [
           {
            "marker": {
             "colorbar": {
              "outlinewidth": 0,
              "ticks": ""
             }
            },
            "type": "scattercarpet"
           }
          ],
          "scattergeo": [
           {
            "marker": {
             "colorbar": {
              "outlinewidth": 0,
              "ticks": ""
             }
            },
            "type": "scattergeo"
           }
          ],
          "scattergl": [
           {
            "marker": {
             "colorbar": {
              "outlinewidth": 0,
              "ticks": ""
             }
            },
            "type": "scattergl"
           }
          ],
          "scattermapbox": [
           {
            "marker": {
             "colorbar": {
              "outlinewidth": 0,
              "ticks": ""
             }
            },
            "type": "scattermapbox"
           }
          ],
          "scatterpolar": [
           {
            "marker": {
             "colorbar": {
              "outlinewidth": 0,
              "ticks": ""
             }
            },
            "type": "scatterpolar"
           }
          ],
          "scatterpolargl": [
           {
            "marker": {
             "colorbar": {
              "outlinewidth": 0,
              "ticks": ""
             }
            },
            "type": "scatterpolargl"
           }
          ],
          "scatterternary": [
           {
            "marker": {
             "colorbar": {
              "outlinewidth": 0,
              "ticks": ""
             }
            },
            "type": "scatterternary"
           }
          ],
          "surface": [
           {
            "colorbar": {
             "outlinewidth": 0,
             "ticks": ""
            },
            "colorscale": [
             [
              0,
              "#0d0887"
             ],
             [
              0.1111111111111111,
              "#46039f"
             ],
             [
              0.2222222222222222,
              "#7201a8"
             ],
             [
              0.3333333333333333,
              "#9c179e"
             ],
             [
              0.4444444444444444,
              "#bd3786"
             ],
             [
              0.5555555555555556,
              "#d8576b"
             ],
             [
              0.6666666666666666,
              "#ed7953"
             ],
             [
              0.7777777777777778,
              "#fb9f3a"
             ],
             [
              0.8888888888888888,
              "#fdca26"
             ],
             [
              1,
              "#f0f921"
             ]
            ],
            "type": "surface"
           }
          ],
          "table": [
           {
            "cells": {
             "fill": {
              "color": "#EBF0F8"
             },
             "line": {
              "color": "white"
             }
            },
            "header": {
             "fill": {
              "color": "#C8D4E3"
             },
             "line": {
              "color": "white"
             }
            },
            "type": "table"
           }
          ]
         },
         "layout": {
          "annotationdefaults": {
           "arrowcolor": "#2a3f5f",
           "arrowhead": 0,
           "arrowwidth": 1
          },
          "autotypenumbers": "strict",
          "coloraxis": {
           "colorbar": {
            "outlinewidth": 0,
            "ticks": ""
           }
          },
          "colorscale": {
           "diverging": [
            [
             0,
             "#8e0152"
            ],
            [
             0.1,
             "#c51b7d"
            ],
            [
             0.2,
             "#de77ae"
            ],
            [
             0.3,
             "#f1b6da"
            ],
            [
             0.4,
             "#fde0ef"
            ],
            [
             0.5,
             "#f7f7f7"
            ],
            [
             0.6,
             "#e6f5d0"
            ],
            [
             0.7,
             "#b8e186"
            ],
            [
             0.8,
             "#7fbc41"
            ],
            [
             0.9,
             "#4d9221"
            ],
            [
             1,
             "#276419"
            ]
           ],
           "sequential": [
            [
             0,
             "#0d0887"
            ],
            [
             0.1111111111111111,
             "#46039f"
            ],
            [
             0.2222222222222222,
             "#7201a8"
            ],
            [
             0.3333333333333333,
             "#9c179e"
            ],
            [
             0.4444444444444444,
             "#bd3786"
            ],
            [
             0.5555555555555556,
             "#d8576b"
            ],
            [
             0.6666666666666666,
             "#ed7953"
            ],
            [
             0.7777777777777778,
             "#fb9f3a"
            ],
            [
             0.8888888888888888,
             "#fdca26"
            ],
            [
             1,
             "#f0f921"
            ]
           ],
           "sequentialminus": [
            [
             0,
             "#0d0887"
            ],
            [
             0.1111111111111111,
             "#46039f"
            ],
            [
             0.2222222222222222,
             "#7201a8"
            ],
            [
             0.3333333333333333,
             "#9c179e"
            ],
            [
             0.4444444444444444,
             "#bd3786"
            ],
            [
             0.5555555555555556,
             "#d8576b"
            ],
            [
             0.6666666666666666,
             "#ed7953"
            ],
            [
             0.7777777777777778,
             "#fb9f3a"
            ],
            [
             0.8888888888888888,
             "#fdca26"
            ],
            [
             1,
             "#f0f921"
            ]
           ]
          },
          "colorway": [
           "#636efa",
           "#EF553B",
           "#00cc96",
           "#ab63fa",
           "#FFA15A",
           "#19d3f3",
           "#FF6692",
           "#B6E880",
           "#FF97FF",
           "#FECB52"
          ],
          "font": {
           "color": "#2a3f5f"
          },
          "geo": {
           "bgcolor": "white",
           "lakecolor": "white",
           "landcolor": "#E5ECF6",
           "showlakes": true,
           "showland": true,
           "subunitcolor": "white"
          },
          "hoverlabel": {
           "align": "left"
          },
          "hovermode": "closest",
          "mapbox": {
           "style": "light"
          },
          "paper_bgcolor": "white",
          "plot_bgcolor": "#E5ECF6",
          "polar": {
           "angularaxis": {
            "gridcolor": "white",
            "linecolor": "white",
            "ticks": ""
           },
           "bgcolor": "#E5ECF6",
           "radialaxis": {
            "gridcolor": "white",
            "linecolor": "white",
            "ticks": ""
           }
          },
          "scene": {
           "xaxis": {
            "backgroundcolor": "#E5ECF6",
            "gridcolor": "white",
            "gridwidth": 2,
            "linecolor": "white",
            "showbackground": true,
            "ticks": "",
            "zerolinecolor": "white"
           },
           "yaxis": {
            "backgroundcolor": "#E5ECF6",
            "gridcolor": "white",
            "gridwidth": 2,
            "linecolor": "white",
            "showbackground": true,
            "ticks": "",
            "zerolinecolor": "white"
           },
           "zaxis": {
            "backgroundcolor": "#E5ECF6",
            "gridcolor": "white",
            "gridwidth": 2,
            "linecolor": "white",
            "showbackground": true,
            "ticks": "",
            "zerolinecolor": "white"
           }
          },
          "shapedefaults": {
           "line": {
            "color": "#2a3f5f"
           }
          },
          "ternary": {
           "aaxis": {
            "gridcolor": "white",
            "linecolor": "white",
            "ticks": ""
           },
           "baxis": {
            "gridcolor": "white",
            "linecolor": "white",
            "ticks": ""
           },
           "bgcolor": "#E5ECF6",
           "caxis": {
            "gridcolor": "white",
            "linecolor": "white",
            "ticks": ""
           }
          },
          "title": {
           "x": 0.05
          },
          "xaxis": {
           "automargin": true,
           "gridcolor": "white",
           "linecolor": "white",
           "ticks": "",
           "title": {
            "standoff": 15
           },
           "zerolinecolor": "white",
           "zerolinewidth": 2
          },
          "yaxis": {
           "automargin": true,
           "gridcolor": "white",
           "linecolor": "white",
           "ticks": "",
           "title": {
            "standoff": 15
           },
           "zerolinecolor": "white",
           "zerolinewidth": 2
          }
         }
        },
        "title": {
         "text": "Interactive Network Graph"
        },
        "xaxis": {
         "autorange": true,
         "range": [
          -0.3141009566062606,
          0.3742024453875109
         ],
         "type": "linear",
         "visible": false
        },
        "yaxis": {
         "autorange": true,
         "range": [
          -0.9533350465125985,
          1.1971255551526476
         ],
         "type": "linear",
         "visible": false
        }
       }
      },
      "image/png": "[encoded data removed]",
      "text/html": [
       "<div>                            <div id=\"7eedfe13-18fa-4445-8764-36b1ebc6c3fb\" class=\"plotly-graph-div\" style=\"height:525px; width:100%;\"></div>            <script type=\"text/javascript\">                require([\"plotly\"], function(Plotly) {                    window.PLOTLYENV=window.PLOTLYENV || {};                                    if (document.getElementById(\"7eedfe13-18fa-4445-8764-36b1ebc6c3fb\")) {                    Plotly.newPlot(                        \"7eedfe13-18fa-4445-8764-36b1ebc6c3fb\",                        [{\"line\":{\"color\":\"gray\",\"width\":5.0},\"mode\":\"lines\",\"x\":[0.22246738231469407,0.33115586224115084],\"y\":[-0.7338088600926046,-0.3955521669831778],\"type\":\"scatter\"},{\"line\":{\"color\":\"gray\",\"width\":2.4},\"mode\":\"lines\",\"x\":[0.22246738231469407,-0.11140517693921083],\"y\":[-0.7338088600926046,-0.3603656334169328],\"type\":\"scatter\"},{\"line\":{\"color\":\"gray\",\"width\":3.4},\"mode\":\"lines\",\"x\":[0.33115586224115084,-0.017925099012690952],\"y\":[-0.3955521669831778,-0.01866960436123475],\"type\":\"scatter\"},{\"line\":{\"color\":\"gray\",\"width\":7.6},\"mode\":\"lines\",\"x\":[-0.11140517693921083,-0.017925099012690952],\"y\":[-0.3603656334169328,-0.01866960436123475],\"type\":\"scatter\"},{\"line\":{\"color\":\"gray\",\"width\":4.0},\"mode\":\"lines\",\"x\":[-0.017925099012690952,-0.1515123125347082],\"y\":[-0.01866960436123475,0.5083962648539493],\"type\":\"scatter\"},{\"line\":{\"color\":\"gray\",\"width\":3.0},\"mode\":\"lines\",\"x\":[-0.1515123125347082,-0.2727806560692348],\"y\":[0.5083962648539493,1.0],\"type\":\"scatter\"},{\"marker\":{\"color\":[\"orange\",\"orange\",\"orange\",\"lightblue\",\"orange\",\"orange\"],\"line\":{\"color\":\"black\",\"width\":2},\"opacity\":1.0,\"size\":[25,25,25,30,25,20]},\"mode\":\"markers+text\",\"text\":[\"1\",\"2\",\"3\",\"4\",\"5\",\"6\"],\"textposition\":\"top center\",\"x\":[0.22246738231469407,0.33115586224115084,-0.11140517693921083,-0.017925099012690952,-0.1515123125347082,-0.2727806560692348],\"y\":[-0.7338088600926046,-0.3955521669831778,-0.3603656334169328,-0.01866960436123475,0.5083962648539493,1.0],\"type\":\"scatter\"}],                        {\"template\":{\"data\":{\"histogram2dcontour\":[{\"type\":\"histogram2dcontour\",\"colorbar\":{\"outlinewidth\":0,\"ticks\":\"\"},\"colorscale\":[[0.0,\"#0d0887\"],[0.1111111111111111,\"#46039f\"],[0.2222222222222222,\"#7201a8\"],[0.3333333333333333,\"#9c179e\"],[0.4444444444444444,\"#bd3786\"],[0.5555555555555556,\"#d8576b\"],[0.6666666666666666,\"#ed7953\"],[0.7777777777777778,\"#fb9f3a\"],[0.8888888888888888,\"#fdca26\"],[1.0,\"#f0f921\"]]}],\"choropleth\":[{\"type\":\"choropleth\",\"colorbar\":{\"outlinewidth\":0,\"ticks\":\"\"}}],\"histogram2d\":[{\"type\":\"histogram2d\",\"colorbar\":{\"outlinewidth\":0,\"ticks\":\"\"},\"colorscale\":[[0.0,\"#0d0887\"],[0.1111111111111111,\"#46039f\"],[0.2222222222222222,\"#7201a8\"],[0.3333333333333333,\"#9c179e\"],[0.4444444444444444,\"#bd3786\"],[0.5555555555555556,\"#d8576b\"],[0.6666666666666666,\"#ed7953\"],[0.7777777777777778,\"#fb9f3a\"],[0.8888888888888888,\"#fdca26\"],[1.0,\"#f0f921\"]]}],\"heatmap\":[{\"type\":\"heatmap\",\"colorbar\":{\"outlinewidth\":0,\"ticks\":\"\"},\"colorscale\":[[0.0,\"#0d0887\"],[0.1111111111111111,\"#46039f\"],[0.2222222222222222,\"#7201a8\"],[0.3333333333333333,\"#9c179e\"],[0.4444444444444444,\"#bd3786\"],[0.5555555555555556,\"#d8576b\"],[0.6666666666666666,\"#ed7953\"],[0.7777777777777778,\"#fb9f3a\"],[0.8888888888888888,\"#fdca26\"],[1.0,\"#f0f921\"]]}],\"heatmapgl\":[{\"type\":\"heatmapgl\",\"colorbar\":{\"outlinewidth\":0,\"ticks\":\"\"},\"colorscale\":[[0.0,\"#0d0887\"],[0.1111111111111111,\"#46039f\"],[0.2222222222222222,\"#7201a8\"],[0.3333333333333333,\"#9c179e\"],[0.4444444444444444,\"#bd3786\"],[0.5555555555555556,\"#d8576b\"],[0.6666666666666666,\"#ed7953\"],[0.7777777777777778,\"#fb9f3a\"],[0.8888888888888888,\"#fdca26\"],[1.0,\"#f0f921\"]]}],\"contourcarpet\":[{\"type\":\"contourcarpet\",\"colorbar\":{\"outlinewidth\":0,\"ticks\":\"\"}}],\"contour\":[{\"type\":\"contour\",\"colorbar\":{\"outlinewidth\":0,\"ticks\":\"\"},\"colorscale\":[[0.0,\"#0d0887\"],[0.1111111111111111,\"#46039f\"],[0.2222222222222222,\"#7201a8\"],[0.3333333333333333,\"#9c179e\"],[0.4444444444444444,\"#bd3786\"],[0.5555555555555556,\"#d8576b\"],[0.6666666666666666,\"#ed7953\"],[0.7777777777777778,\"#fb9f3a\"],[0.8888888888888888,\"#fdca26\"],[1.0,\"#f0f921\"]]}],\"surface\":[{\"type\":\"surface\",\"colorbar\":{\"outlinewidth\":0,\"ticks\":\"\"},\"colorscale\":[[0.0,\"#0d0887\"],[0.1111111111111111,\"#46039f\"],[0.2222222222222222,\"#7201a8\"],[0.3333333333333333,\"#9c179e\"],[0.4444444444444444,\"#bd3786\"],[0.5555555555555556,\"#d8576b\"],[0.6666666666666666,\"#ed7953\"],[0.7777777777777778,\"#fb9f3a\"],[0.8888888888888888,\"#fdca26\"],[1.0,\"#f0f921\"]]}],\"mesh3d\":[{\"type\":\"mesh3d\",\"colorbar\":{\"outlinewidth\":0,\"ticks\":\"\"}}],\"scatter\":[{\"fillpattern\":{\"fillmode\":\"overlay\",\"size\":10,\"solidity\":0.2},\"type\":\"scatter\"}],\"parcoords\":[{\"type\":\"parcoords\",\"line\":{\"colorbar\":{\"outlinewidth\":0,\"ticks\":\"\"}}}],\"scatterpolargl\":[{\"type\":\"scatterpolargl\",\"marker\":{\"colorbar\":{\"outlinewidth\":0,\"ticks\":\"\"}}}],\"bar\":[{\"error_x\":{\"color\":\"#2a3f5f\"},\"error_y\":{\"color\":\"#2a3f5f\"},\"marker\":{\"line\":{\"color\":\"#E5ECF6\",\"width\":0.5},\"pattern\":{\"fillmode\":\"overlay\",\"size\":10,\"solidity\":0.2}},\"type\":\"bar\"}],\"scattergeo\":[{\"type\":\"scattergeo\",\"marker\":{\"colorbar\":{\"outlinewidth\":0,\"ticks\":\"\"}}}],\"scatterpolar\":[{\"type\":\"scatterpolar\",\"marker\":{\"colorbar\":{\"outlinewidth\":0,\"ticks\":\"\"}}}],\"histogram\":[{\"marker\":{\"pattern\":{\"fillmode\":\"overlay\",\"size\":10,\"solidity\":0.2}},\"type\":\"histogram\"}],\"scattergl\":[{\"type\":\"scattergl\",\"marker\":{\"colorbar\":{\"outlinewidth\":0,\"ticks\":\"\"}}}],\"scatter3d\":[{\"type\":\"scatter3d\",\"line\":{\"colorbar\":{\"outlinewidth\":0,\"ticks\":\"\"}},\"marker\":{\"colorbar\":{\"outlinewidth\":0,\"ticks\":\"\"}}}],\"scattermapbox\":[{\"type\":\"scattermapbox\",\"marker\":{\"colorbar\":{\"outlinewidth\":0,\"ticks\":\"\"}}}],\"scatterternary\":[{\"type\":\"scatterternary\",\"marker\":{\"colorbar\":{\"outlinewidth\":0,\"ticks\":\"\"}}}],\"scattercarpet\":[{\"type\":\"scattercarpet\",\"marker\":{\"colorbar\":{\"outlinewidth\":0,\"ticks\":\"\"}}}],\"carpet\":[{\"aaxis\":{\"endlinecolor\":\"#2a3f5f\",\"gridcolor\":\"white\",\"linecolor\":\"white\",\"minorgridcolor\":\"white\",\"startlinecolor\":\"#2a3f5f\"},\"baxis\":{\"endlinecolor\":\"#2a3f5f\",\"gridcolor\":\"white\",\"linecolor\":\"white\",\"minorgridcolor\":\"white\",\"startlinecolor\":\"#2a3f5f\"},\"type\":\"carpet\"}],\"table\":[{\"cells\":{\"fill\":{\"color\":\"#EBF0F8\"},\"line\":{\"color\":\"white\"}},\"header\":{\"fill\":{\"color\":\"#C8D4E3\"},\"line\":{\"color\":\"white\"}},\"type\":\"table\"}],\"barpolar\":[{\"marker\":{\"line\":{\"color\":\"#E5ECF6\",\"width\":0.5},\"pattern\":{\"fillmode\":\"overlay\",\"size\":10,\"solidity\":0.2}},\"type\":\"barpolar\"}],\"pie\":[{\"automargin\":true,\"type\":\"pie\"}]},\"layout\":{\"autotypenumbers\":\"strict\",\"colorway\":[\"#636efa\",\"#EF553B\",\"#00cc96\",\"#ab63fa\",\"#FFA15A\",\"#19d3f3\",\"#FF6692\",\"#B6E880\",\"#FF97FF\",\"#FECB52\"],\"font\":{\"color\":\"#2a3f5f\"},\"hovermode\":\"closest\",\"hoverlabel\":{\"align\":\"left\"},\"paper_bgcolor\":\"white\",\"plot_bgcolor\":\"#E5ECF6\",\"polar\":{\"bgcolor\":\"#E5ECF6\",\"angularaxis\":{\"gridcolor\":\"white\",\"linecolor\":\"white\",\"ticks\":\"\"},\"radialaxis\":{\"gridcolor\":\"white\",\"linecolor\":\"white\",\"ticks\":\"\"}},\"ternary\":{\"bgcolor\":\"#E5ECF6\",\"aaxis\":{\"gridcolor\":\"white\",\"linecolor\":\"white\",\"ticks\":\"\"},\"baxis\":{\"gridcolor\":\"white\",\"linecolor\":\"white\",\"ticks\":\"\"},\"caxis\":{\"gridcolor\":\"white\",\"linecolor\":\"white\",\"ticks\":\"\"}},\"coloraxis\":{\"colorbar\":{\"outlinewidth\":0,\"ticks\":\"\"}},\"colorscale\":{\"sequential\":[[0.0,\"#0d0887\"],[0.1111111111111111,\"#46039f\"],[0.2222222222222222,\"#7201a8\"],[0.3333333333333333,\"#9c179e\"],[0.4444444444444444,\"#bd3786\"],[0.5555555555555556,\"#d8576b\"],[0.6666666666666666,\"#ed7953\"],[0.7777777777777778,\"#fb9f3a\"],[0.8888888888888888,\"#fdca26\"],[1.0,\"#f0f921\"]],\"sequentialminus\":[[0.0,\"#0d0887\"],[0.1111111111111111,\"#46039f\"],[0.2222222222222222,\"#7201a8\"],[0.3333333333333333,\"#9c179e\"],[0.4444444444444444,\"#bd3786\"],[0.5555555555555556,\"#d8576b\"],[0.6666666666666666,\"#ed7953\"],[0.7777777777777778,\"#fb9f3a\"],[0.8888888888888888,\"#fdca26\"],[1.0,\"#f0f921\"]],\"diverging\":[[0,\"#8e0152\"],[0.1,\"#c51b7d\"],[0.2,\"#de77ae\"],[0.3,\"#f1b6da\"],[0.4,\"#fde0ef\"],[0.5,\"#f7f7f7\"],[0.6,\"#e6f5d0\"],[0.7,\"#b8e186\"],[0.8,\"#7fbc41\"],[0.9,\"#4d9221\"],[1,\"#276419\"]]},\"xaxis\":{\"gridcolor\":\"white\",\"linecolor\":\"white\",\"ticks\":\"\",\"title\":{\"standoff\":15},\"zerolinecolor\":\"white\",\"automargin\":true,\"zerolinewidth\":2},\"yaxis\":{\"gridcolor\":\"white\",\"linecolor\":\"white\",\"ticks\":\"\",\"title\":{\"standoff\":15},\"zerolinecolor\":\"white\",\"automargin\":true,\"zerolinewidth\":2},\"scene\":{\"xaxis\":{\"backgroundcolor\":\"#E5ECF6\",\"gridcolor\":\"white\",\"linecolor\":\"white\",\"showbackground\":true,\"ticks\":\"\",\"zerolinecolor\":\"white\",\"gridwidth\":2},\"yaxis\":{\"backgroundcolor\":\"#E5ECF6\",\"gridcolor\":\"white\",\"linecolor\":\"white\",\"showbackground\":true,\"ticks\":\"\",\"zerolinecolor\":\"white\",\"gridwidth\":2},\"zaxis\":{\"backgroundcolor\":\"#E5ECF6\",\"gridcolor\":\"white\",\"linecolor\":\"white\",\"showbackground\":true,\"ticks\":\"\",\"zerolinecolor\":\"white\",\"gridwidth\":2}},\"shapedefaults\":{\"line\":{\"color\":\"#2a3f5f\"}},\"annotationdefaults\":{\"arrowcolor\":\"#2a3f5f\",\"arrowhead\":0,\"arrowwidth\":1},\"geo\":{\"bgcolor\":\"white\",\"landcolor\":\"#E5ECF6\",\"subunitcolor\":\"white\",\"showland\":true,\"showlakes\":true,\"lakecolor\":\"white\"},\"title\":{\"x\":0.05},\"mapbox\":{\"style\":\"light\"}}},\"margin\":{\"l\":20,\"r\":20,\"t\":40,\"b\":20},\"xaxis\":{\"visible\":false},\"yaxis\":{\"visible\":false},\"title\":{\"text\":\"Interactive Network Graph\"},\"showlegend\":false},                        {\"responsive\": true}                    ).then(function(){\n",
       "                            \n",
       "var gd = document.getElementById('7eedfe13-18fa-4445-8764-36b1ebc6c3fb');\n",
       "var x = new MutationObserver(function (mutations, observer) {{\n",
       "        var display = window.getComputedStyle(gd).display;\n",
       "        if (!display || display === 'none') {{\n",
       "            console.log([gd, 'removed!']);\n",
       "            Plotly.purge(gd);\n",
       "            observer.disconnect();\n",
       "        }}\n",
       "}});\n",
       "\n",
       "// Listen for the removal of the full notebook cells\n",
       "var notebookContainer = gd.closest('#notebook-container');\n",
       "if (notebookContainer) {{\n",
       "    x.observe(notebookContainer, {childList: true});\n",
       "}}\n",
       "\n",
       "// Listen for the clearing of the current output cell\n",
       "var outputEl = gd.closest('.output');\n",
       "if (outputEl) {{\n",
       "    x.observe(outputEl, {childList: true});\n",
       "}}\n",
       "\n",
       "                        })                };                });            </script>        </div>"
      ]
     },
     "metadata": {},
     "output_type": "display_data"
    }
   ],
   "source": [
    "import networkx as nx\n",
    "import plotly.graph_objects as go\n",
    "\n",
    "# 그래프 생성\n",
    "G = nx.Graph()\n",
    "\n",
    "# 노드 추가\n",
    "nodes = [1, 2, 3, 4, 5, 6]\n",
    "G.add_nodes_from(nodes) # 노드를 아무렇게 추가함\n",
    "\n",
    "# 엣지 추가 (가중치 포함)\n",
    "edges = [(1, 2, 2.5), (1, 3, 1.2), (3, 4, 3.8), (2, 4, 1.7), (4, 5, 2.0), (5, 6, 1.5)]\n",
    "G.add_weighted_edges_from(edges) # 엣지와 가중치 값만 설정\n",
    "\n",
    "# 노드 위치 설정\n",
    "pos = nx.spring_layout(G, seed=42)\n",
    "\n",
    "# 노드 좌표 리스트\n",
    "x_nodes = [pos[k][0] for k in G.nodes()] # 어떤 기준인지 모르겠지만 노드 당 x 좌표 설정\n",
    "print(x_nodes)\n",
    "y_nodes = [pos[k][1] for k in G.nodes()] # 어떤 기준인지 모르겠지만 노드 당 y 좌표 설정\n",
    "print(y_nodes)\n",
    "\n",
    "# 엣지 리스트 생성 (개별적으로 추가하여 굵기 조정)\n",
    "edge_traces = []\n",
    "for edge in G.edges(data=True):\n",
    "    x0, y0 = pos[edge[0]]\n",
    "    x1, y1 = pos[edge[1]]\n",
    "\n",
    "    edge_traces.append(go.Scatter(\n",
    "        x=[x0, x1], y=[y0, y1],\n",
    "        line=dict(width=edge[2][\"weight\"] * 2, color='gray'),  # 가중치에 따른 굵기 반영\n",
    "        mode='lines'\n",
    "    ))\n",
    "\n",
    "# 노드 크기 및 색상 설정\n",
    "node_sizes = [15 + 5 * len(list(G.neighbors(n))) for n in G.nodes()]  # 연결된 노드 수에 비례\n",
    "node_colors = ['lightblue' if len(list(G.neighbors(n))) > 2 else 'orange' for n in G.nodes()]  # 연결된 노드 수에 따라 색상 지정\n",
    "\n",
    "# 노드 시각화 (투명도 제거)\n",
    "node_trace = go.Scatter(\n",
    "    x=x_nodes, y=y_nodes,\n",
    "    mode='markers+text',\n",
    "    marker=dict(\n",
    "        size=node_sizes,\n",
    "        color=node_colors,\n",
    "        opacity=1.0,  # 투명도 완전히 제거\n",
    "        line=dict(width=2, color='black')\n",
    "    ),\n",
    "    text=[str(node) for node in G.nodes()],\n",
    "    textposition=\"top center\"\n",
    ")\n",
    "\n",
    "# 플로팅\n",
    "fig = go.Figure(data=edge_traces + [node_trace])  # 엣지와 노드를 함께 추가\n",
    "fig.update_layout(\n",
    "    title=\"Interactive Network Graph\",\n",
    "    showlegend=False,\n",
    "    margin=dict(l=20, r=20, t=40, b=20),\n",
    "    xaxis=dict(visible=False),  # X축 제거\n",
    "    yaxis=dict(visible=False)   # Y축 제거\n",
    ")\n",
    "\n",
    "# 그래프 표시\n",
    "fig.show()"
   ]
  },
  {
   "cell_type": "code",
   "execution_count": 17,
   "id": "d59551ac-a126-4963-a528-f8f4da62e198",
   "metadata": {},
   "outputs": [
    {
     "name": "stdout",
     "output_type": "stream",
     "text": [
      "1\n",
      "0.22246738231469407\n",
      "-0.7338088600926046\n",
      "2\n",
      "0.33115586224115084\n",
      "-0.3955521669831778\n",
      "3\n",
      "-0.11140517693921083\n",
      "-0.3603656334169328\n",
      "4\n",
      "-0.017925099012690952\n",
      "-0.01866960436123475\n",
      "5\n",
      "-0.1515123125347082\n",
      "0.5083962648539493\n",
      "6\n",
      "-0.2727806560692348\n",
      "1.0\n"
     ]
    }
   ],
   "source": [
    "for k in G.nodes():\n",
    "    print(k)\n",
    "    print(pos[k][0])\n",
    "    print(pos[k][1])"
   ]
  },
  {
   "cell_type": "code",
   "execution_count": null,
   "id": "b691341b-2dbd-4b78-92f2-c5f86d45e5b5",
   "metadata": {},
   "outputs": [],
   "source": []
  }
 ],
 "metadata": {
  "kernelspec": {
   "display_name": "Python [conda env:base] *",
   "language": "python",
   "name": "conda-base-py"
  },
  "language_info": {
   "codemirror_mode": {
    "name": "ipython",
    "version": 3
   },
   "file_extension": ".py",
   "mimetype": "text/x-python",
   "name": "python",
   "nbconvert_exporter": "python",
   "pygments_lexer": "ipython3",
   "version": "3.11.5"
  }
 },
 "nbformat": 4,
 "nbformat_minor": 5
}
